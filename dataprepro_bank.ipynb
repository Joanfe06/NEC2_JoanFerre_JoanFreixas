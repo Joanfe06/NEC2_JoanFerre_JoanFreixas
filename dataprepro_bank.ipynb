{
 "cells": [
  {
   "cell_type": "markdown",
   "metadata": {},
   "source": [
    "# Data Preprocessing for Dataset2"
   ]
  },
  {
   "cell_type": "markdown",
   "metadata": {},
   "source": [
    "Load the Data"
   ]
  },
  {
   "cell_type": "code",
   "execution_count": 2,
   "metadata": {},
   "outputs": [],
   "source": [
    "import pandas as pd\n",
    "\n",
    "# Load the dataset\n",
    "data = pd.read_csv('bank-additional.csv', delimiter=';')"
   ]
  },
  {
   "cell_type": "markdown",
   "metadata": {},
   "source": [
    "Handle Missing Values; Mean for numerical values and Mode for categorical ones\n"
   ]
  },
  {
   "cell_type": "code",
   "execution_count": 3,
   "metadata": {},
   "outputs": [],
   "source": [
    "# Replace \"unknown\" with NaN\n",
    "data.replace('unknown', pd.NA, inplace=True)\n",
    "\n",
    "# Convert yes to 1, no to 0 for the 'y' column\n",
    "data['y'].replace({'yes': 1, 'no': 0}, inplace=True)\n",
    "\n",
    "# Identify numeric columns\n",
    "numeric_columns = data.select_dtypes(include=['number']).columns\n",
    "\n",
    "# Handle missing values for numeric columns (impute with the mean)\n",
    "data[numeric_columns] = data[numeric_columns].fillna(data[numeric_columns].mean())\n",
    "\n",
    "# Identify categorical columns\n",
    "categorical_columns = data.select_dtypes(include=['object']).columns\n",
    "\n",
    "# Handle missing values for categorical columns (impute with the most frequent value)\n",
    "data[categorical_columns] = data[categorical_columns].fillna(data[categorical_columns].mode().iloc[0])"
   ]
  },
  {
   "cell_type": "markdown",
   "metadata": {},
   "source": [
    "Convert Categorical Features to Numerical (One-Hot Encoding)"
   ]
  },
  {
   "cell_type": "code",
   "execution_count": 4,
   "metadata": {},
   "outputs": [],
   "source": [
    "# One-hot encode categorical features using pandas get_dummies\n",
    "data = pd.get_dummies(data, columns=categorical_columns)\n",
    "\n",
    "# Convert boolean values to integers (1 for True, 0 for False)\n",
    "data = data.astype(int)"
   ]
  },
  {
   "cell_type": "markdown",
   "metadata": {},
   "source": [
    "Separate Input from Prediction"
   ]
  },
  {
   "cell_type": "code",
   "execution_count": 5,
   "metadata": {},
   "outputs": [],
   "source": [
    "# Separate input features and prediction feature\n",
    "X = data.drop(columns=['y'])\n",
    "y = data['y']"
   ]
  },
  {
   "cell_type": "markdown",
   "metadata": {},
   "source": [
    "Split the Data"
   ]
  },
  {
   "cell_type": "code",
   "execution_count": 6,
   "metadata": {},
   "outputs": [],
   "source": [
    "from sklearn.model_selection import train_test_split\n",
    "\n",
    "# Split the data into training and test sets\n",
    "X_train, X_test, y_train, y_test = train_test_split(X, y, test_size=0.2, random_state=42)"
   ]
  },
  {
   "cell_type": "markdown",
   "metadata": {},
   "source": [
    "Normalize the data"
   ]
  },
  {
   "cell_type": "code",
   "execution_count": 7,
   "metadata": {},
   "outputs": [
    {
     "name": "stdout",
     "output_type": "stream",
     "text": [
      "           age  duration  campaign  pdays  previous  emp.var.rate  \\\n",
      "324   0.214286  0.063958  0.000000    1.0  0.000000           1.0   \n",
      "2350  0.214286  0.025254  0.000000    1.0  0.000000           1.0   \n",
      "1391  0.485714  0.176503  0.035714    1.0  0.000000           1.0   \n",
      "468   0.200000  0.099643  0.000000    1.0  0.166667           0.5   \n",
      "561   0.300000  0.046116  0.035714    1.0  0.000000           1.0   \n",
      "\n",
      "      cons.price.idx  cons.conf.idx  euribor3m  nr.employed  ...  month_oct  \\\n",
      "324              0.5       0.583333        0.8     0.860377  ...        0.0   \n",
      "2350             0.5       0.583333        0.8     0.860377  ...        0.0   \n",
      "1391             0.5       0.583333        0.8     0.860377  ...        0.0   \n",
      "468              0.0       0.166667        0.2     0.513208  ...        0.0   \n",
      "561              0.5       0.583333        0.8     0.860377  ...        0.0   \n",
      "\n",
      "      month_sep  day_of_week_fri  day_of_week_mon  day_of_week_thu  \\\n",
      "324         0.0              0.0              0.0              0.0   \n",
      "2350        0.0              1.0              0.0              0.0   \n",
      "1391        0.0              0.0              0.0              0.0   \n",
      "468         0.0              0.0              0.0              0.0   \n",
      "561         0.0              0.0              0.0              1.0   \n",
      "\n",
      "      day_of_week_tue  day_of_week_wed  poutcome_failure  \\\n",
      "324               0.0              1.0               0.0   \n",
      "2350              0.0              0.0               0.0   \n",
      "1391              0.0              1.0               0.0   \n",
      "468               0.0              1.0               1.0   \n",
      "561               0.0              0.0               0.0   \n",
      "\n",
      "      poutcome_nonexistent  poutcome_success  \n",
      "324                    1.0               0.0  \n",
      "2350                   1.0               0.0  \n",
      "1391                   1.0               0.0  \n",
      "468                    0.0               0.0  \n",
      "561                    1.0               0.0  \n",
      "\n",
      "[5 rows x 57 columns]\n"
     ]
    }
   ],
   "source": [
    "from sklearn.preprocessing import MinMaxScaler\n",
    "\n",
    "# Identify numeric columns for normalization\n",
    "numeric_columns = X_train.select_dtypes(include=['number']).columns\n",
    "\n",
    "# Create a MinMaxScaler\n",
    "scaler = MinMaxScaler()\n",
    "\n",
    "# Fit the scaler on the training data and transform both training and test data\n",
    "X_train[numeric_columns] = scaler.fit_transform(X_train[numeric_columns])\n",
    "X_test[numeric_columns] = scaler.transform(X_test[numeric_columns])\n",
    "\n",
    "print(X_train.head())"
   ]
  }
 ],
 "metadata": {
  "kernelspec": {
   "display_name": "Python 3",
   "language": "python",
   "name": "python3"
  },
  "language_info": {
   "codemirror_mode": {
    "name": "ipython",
    "version": 3
   },
   "file_extension": ".py",
   "mimetype": "text/x-python",
   "name": "python",
   "nbconvert_exporter": "python",
   "pygments_lexer": "ipython3",
   "version": "3.10.12"
  }
 },
 "nbformat": 4,
 "nbformat_minor": 2
}
